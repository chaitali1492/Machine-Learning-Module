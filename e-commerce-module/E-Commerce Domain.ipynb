{
 "cells": [
  {
   "cell_type": "code",
   "execution_count": 172,
   "id": "a895ed83-98e3-49e7-a545-c24f093e9230",
   "metadata": {},
   "outputs": [],
   "source": [
    "import os\n",
    "import numpy as np\n",
    "import pandas as pd\n",
    "import matplotlib.pyplot as plt\n",
    "import seaborn as sns\n",
    "from sklearn.datasets import make_blobs\n",
    "from sklearn.cluster import KMeans\n",
    "import warnings\n",
    "warnings.filterwarnings('ignore')"
   ]
  },
  {
   "cell_type": "code",
   "execution_count": 173,
   "id": "e6e91b15-10fc-446c-8e7a-b42d9f8f2179",
   "metadata": {},
   "outputs": [
    {
     "name": "stdout",
     "output_type": "stream",
     "text": [
      "D:\\chaitali\\Data Science\\Machine Learning Models Practice\\E-Commerce-Module\n"
     ]
    }
   ],
   "source": [
    "import os\n",
    "\n",
    "# Print the current working directory\n",
    "print(os.getcwd())\n"
   ]
  },
  {
   "cell_type": "code",
   "execution_count": 174,
   "id": "07a9968d-713b-402e-9c9a-a3f63d18295a",
   "metadata": {},
   "outputs": [
    {
     "name": "stdout",
     "output_type": "stream",
     "text": [
      "   CustomerID Item Code  InvoieNo Date of purchase  Quantity        Time  \\\n",
      "0      4355.0     15734  398177.0       29-10-2017       6.0  3:36:00 PM   \n",
      "1      4352.0     14616  394422.0       05-10-2017       2.0  2:53:00 PM   \n",
      "2      4352.0     14614  394422.0       12-10-2017       2.0  2:53:00 PM   \n",
      "3      4352.0    85014B  388633.0       22-08-2017       3.0  2:47:00 PM   \n",
      "4      4352.0     15364  394422.0       10-10-2017       2.0  2:53:00 PM   \n",
      "\n",
      "   price per Unit   Price Shipping Location Cancelled_status Reason of return  \\\n",
      "0           321.0  1926.0        Location 1              NaN              NaN   \n",
      "1           870.0  1740.0        Location 1              NaN              NaN   \n",
      "2           933.0  1866.0        Location 1              NaN              NaN   \n",
      "3           623.0  1869.0        Location 1              NaN              NaN   \n",
      "4           944.0  1888.0        Location 1              NaN              NaN   \n",
      "\n",
      "   Sold as set  \n",
      "0          NaN  \n",
      "1          NaN  \n",
      "2          NaN  \n",
      "3          NaN  \n",
      "4          NaN  \n"
     ]
    }
   ],
   "source": [
    "df = pd.read_csv(\"D:\\chaitali\\Data Science\\Machine Learning Models Practice\\E-Commerce-Module\\E-com_Data.csv\");\n",
    "\n",
    "print(df.head());"
   ]
  },
  {
   "cell_type": "code",
   "execution_count": 175,
   "id": "860ae58e-976a-4de7-b799-54d153edabb9",
   "metadata": {},
   "outputs": [
    {
     "name": "stdout",
     "output_type": "stream",
     "text": [
      "<class 'pandas.core.frame.DataFrame'>\n",
      "RangeIndex: 541116 entries, 0 to 541115\n",
      "Data columns (total 12 columns):\n",
      " #   Column             Non-Null Count   Dtype  \n",
      "---  ------             --------------   -----  \n",
      " 0   CustomerID         404189 non-null  float64\n",
      " 1   Item Code          537979 non-null  object \n",
      " 2   InvoieNo           537979 non-null  float64\n",
      " 3   Date of purchase   537979 non-null  object \n",
      " 4   Quantity           537979 non-null  float64\n",
      " 5   Time               537979 non-null  object \n",
      " 6   price per Unit     537979 non-null  float64\n",
      " 7   Price              537979 non-null  float64\n",
      " 8   Shipping Location  537979 non-null  object \n",
      " 9   Cancelled_status   8345 non-null    object \n",
      " 10  Reason of return   3 non-null       object \n",
      " 11  Sold as set        0 non-null       float64\n",
      "dtypes: float64(6), object(6)\n",
      "memory usage: 49.5+ MB\n"
     ]
    }
   ],
   "source": [
    "df.info();"
   ]
  },
  {
   "cell_type": "code",
   "execution_count": 176,
   "id": "dfe883e0-0cee-4ce5-92ad-c986b6bc6a7b",
   "metadata": {},
   "outputs": [
    {
     "data": {
      "text/plain": [
       "3145"
      ]
     },
     "execution_count": 176,
     "metadata": {},
     "output_type": "execute_result"
    }
   ],
   "source": [
    "df.duplicated().sum()"
   ]
  },
  {
   "cell_type": "code",
   "execution_count": 177,
   "id": "62e6b7d8-8e67-488e-9d1a-bd1ff74d9b53",
   "metadata": {},
   "outputs": [],
   "source": [
    "df = df.drop_duplicates(ignore_index = True)"
   ]
  },
  {
   "cell_type": "code",
   "execution_count": 178,
   "id": "5212b238-8fec-42db-96e9-ef433e999adb",
   "metadata": {},
   "outputs": [
    {
     "data": {
      "text/plain": [
       "0"
      ]
     },
     "execution_count": 178,
     "metadata": {},
     "output_type": "execute_result"
    }
   ],
   "source": [
    "df.duplicated().sum()"
   ]
  },
  {
   "cell_type": "code",
   "execution_count": 179,
   "id": "2e58bdc6-05e3-4818-9f12-6f17c0fa9b97",
   "metadata": {},
   "outputs": [
    {
     "data": {
      "text/plain": [
       "(537971, 12)"
      ]
     },
     "execution_count": 179,
     "metadata": {},
     "output_type": "execute_result"
    }
   ],
   "source": [
    "df.shape"
   ]
  },
  {
   "cell_type": "code",
   "execution_count": 180,
   "id": "47959aee-9281-45f6-ac8e-8733d6e02a7c",
   "metadata": {},
   "outputs": [
    {
     "data": {
      "text/plain": [
       "Index(['CustomerID', 'Item Code', 'InvoieNo', 'Date of purchase', 'Quantity',\n",
       "       'Time', 'price per Unit', 'Price', 'Shipping Location',\n",
       "       'Cancelled_status', 'Reason of return', 'Sold as set'],\n",
       "      dtype='object')"
      ]
     },
     "execution_count": 180,
     "metadata": {},
     "output_type": "execute_result"
    }
   ],
   "source": [
    "df.columns"
   ]
  },
  {
   "cell_type": "markdown",
   "id": "45d737b0-2205-4f69-801e-f347230bc34f",
   "metadata": {},
   "source": [
    "### Required feature to build segmentation/clustering\n",
    "### To make cluster basis RFM approach\n",
    "### 'CustomerID', 'InvoieNo', 'Date of purchase','Price'\n",
    "### recency - 'Date of purchase'\n",
    "### frequency - 'InvoieNo'\n",
    "### monetry - 'Price"
   ]
  },
  {
   "cell_type": "code",
   "execution_count": 182,
   "id": "c930f760-d337-4afd-8c44-90fb70994d6f",
   "metadata": {},
   "outputs": [
    {
     "data": {
      "text/plain": [
       "CustomerID            24.869370\n",
       "Item Code              0.000186\n",
       "InvoieNo               0.000186\n",
       "Date of purchase       0.000186\n",
       "Quantity               0.000186\n",
       "Time                   0.000186\n",
       "price per Unit         0.000186\n",
       "Price                  0.000186\n",
       "Shipping Location      0.000186\n",
       "Cancelled_status      98.448801\n",
       "Reason of return      99.999442\n",
       "Sold as set          100.000000\n",
       "dtype: float64"
      ]
     },
     "execution_count": 182,
     "metadata": {},
     "output_type": "execute_result"
    }
   ],
   "source": [
    "df.isnull().sum()/len(df)*100"
   ]
  },
  {
   "cell_type": "code",
   "execution_count": 183,
   "id": "8d5006f6-1d20-4334-b031-190978aa3128",
   "metadata": {},
   "outputs": [
    {
     "data": {
      "text/html": [
       "<div>\n",
       "<style scoped>\n",
       "    .dataframe tbody tr th:only-of-type {\n",
       "        vertical-align: middle;\n",
       "    }\n",
       "\n",
       "    .dataframe tbody tr th {\n",
       "        vertical-align: top;\n",
       "    }\n",
       "\n",
       "    .dataframe thead th {\n",
       "        text-align: right;\n",
       "    }\n",
       "</style>\n",
       "<table border=\"1\" class=\"dataframe\">\n",
       "  <thead>\n",
       "    <tr style=\"text-align: right;\">\n",
       "      <th></th>\n",
       "      <th>CustomerID</th>\n",
       "      <th>InvoieNo</th>\n",
       "      <th>Date of purchase</th>\n",
       "      <th>Price</th>\n",
       "    </tr>\n",
       "  </thead>\n",
       "  <tbody>\n",
       "    <tr>\n",
       "      <th>0</th>\n",
       "      <td>4355.0</td>\n",
       "      <td>398177.0</td>\n",
       "      <td>29-10-2017</td>\n",
       "      <td>1926.0</td>\n",
       "    </tr>\n",
       "    <tr>\n",
       "      <th>1</th>\n",
       "      <td>4352.0</td>\n",
       "      <td>394422.0</td>\n",
       "      <td>05-10-2017</td>\n",
       "      <td>1740.0</td>\n",
       "    </tr>\n",
       "    <tr>\n",
       "      <th>2</th>\n",
       "      <td>4352.0</td>\n",
       "      <td>394422.0</td>\n",
       "      <td>12-10-2017</td>\n",
       "      <td>1866.0</td>\n",
       "    </tr>\n",
       "    <tr>\n",
       "      <th>3</th>\n",
       "      <td>4352.0</td>\n",
       "      <td>388633.0</td>\n",
       "      <td>22-08-2017</td>\n",
       "      <td>1869.0</td>\n",
       "    </tr>\n",
       "    <tr>\n",
       "      <th>4</th>\n",
       "      <td>4352.0</td>\n",
       "      <td>394422.0</td>\n",
       "      <td>10-10-2017</td>\n",
       "      <td>1888.0</td>\n",
       "    </tr>\n",
       "  </tbody>\n",
       "</table>\n",
       "</div>"
      ],
      "text/plain": [
       "   CustomerID  InvoieNo Date of purchase   Price\n",
       "0      4355.0  398177.0       29-10-2017  1926.0\n",
       "1      4352.0  394422.0       05-10-2017  1740.0\n",
       "2      4352.0  394422.0       12-10-2017  1866.0\n",
       "3      4352.0  388633.0       22-08-2017  1869.0\n",
       "4      4352.0  394422.0       10-10-2017  1888.0"
      ]
     },
     "execution_count": 183,
     "metadata": {},
     "output_type": "execute_result"
    }
   ],
   "source": [
    "df = df[['CustomerID','InvoieNo','Date of purchase','Price']]\n",
    "df.head()"
   ]
  },
  {
   "cell_type": "code",
   "execution_count": 184,
   "id": "89c90789-dec3-4dec-ab04-d6bf8cc5e52c",
   "metadata": {},
   "outputs": [
    {
     "data": {
      "text/plain": [
       "CustomerID          24.869370\n",
       "InvoieNo             0.000186\n",
       "Date of purchase     0.000186\n",
       "Price                0.000186\n",
       "dtype: float64"
      ]
     },
     "execution_count": 184,
     "metadata": {},
     "output_type": "execute_result"
    }
   ],
   "source": [
    "df.isnull().sum()/len(df)*100"
   ]
  },
  {
   "cell_type": "code",
   "execution_count": 185,
   "id": "a0c8c3a7-54b4-4f3f-bd4a-37938197a550",
   "metadata": {},
   "outputs": [
    {
     "data": {
      "text/plain": [
       "CustomerID          0\n",
       "InvoieNo            0\n",
       "Date of purchase    0\n",
       "Price               0\n",
       "dtype: int64"
      ]
     },
     "execution_count": 185,
     "metadata": {},
     "output_type": "execute_result"
    }
   ],
   "source": [
    "df = df.dropna(subset = ['CustomerID'])\n",
    "df.isnull().sum()"
   ]
  },
  {
   "cell_type": "code",
   "execution_count": 186,
   "id": "baed4b04-d3fc-4358-867c-2e942e038220",
   "metadata": {},
   "outputs": [
    {
     "data": {
      "text/plain": [
       "(404181, 4)"
      ]
     },
     "execution_count": 186,
     "metadata": {},
     "output_type": "execute_result"
    }
   ],
   "source": [
    "df.shape"
   ]
  },
  {
   "cell_type": "code",
   "execution_count": 187,
   "id": "bde34882-4e96-48b6-b2f4-0289f777c695",
   "metadata": {},
   "outputs": [
    {
     "data": {
      "text/html": [
       "<div>\n",
       "<style scoped>\n",
       "    .dataframe tbody tr th:only-of-type {\n",
       "        vertical-align: middle;\n",
       "    }\n",
       "\n",
       "    .dataframe tbody tr th {\n",
       "        vertical-align: top;\n",
       "    }\n",
       "\n",
       "    .dataframe thead th {\n",
       "        text-align: right;\n",
       "    }\n",
       "</style>\n",
       "<table border=\"1\" class=\"dataframe\">\n",
       "  <thead>\n",
       "    <tr style=\"text-align: right;\">\n",
       "      <th></th>\n",
       "      <th>CustomerID</th>\n",
       "      <th>InvoieNo</th>\n",
       "      <th>Date of purchase</th>\n",
       "      <th>Price</th>\n",
       "    </tr>\n",
       "  </thead>\n",
       "  <tbody>\n",
       "    <tr>\n",
       "      <th>0</th>\n",
       "      <td>4355.0</td>\n",
       "      <td>398177.0</td>\n",
       "      <td>29-10-2017</td>\n",
       "      <td>1926.0</td>\n",
       "    </tr>\n",
       "    <tr>\n",
       "      <th>1</th>\n",
       "      <td>4352.0</td>\n",
       "      <td>394422.0</td>\n",
       "      <td>05-10-2017</td>\n",
       "      <td>1740.0</td>\n",
       "    </tr>\n",
       "    <tr>\n",
       "      <th>2</th>\n",
       "      <td>4352.0</td>\n",
       "      <td>394422.0</td>\n",
       "      <td>12-10-2017</td>\n",
       "      <td>1866.0</td>\n",
       "    </tr>\n",
       "    <tr>\n",
       "      <th>3</th>\n",
       "      <td>4352.0</td>\n",
       "      <td>388633.0</td>\n",
       "      <td>22-08-2017</td>\n",
       "      <td>1869.0</td>\n",
       "    </tr>\n",
       "    <tr>\n",
       "      <th>4</th>\n",
       "      <td>4352.0</td>\n",
       "      <td>394422.0</td>\n",
       "      <td>10-10-2017</td>\n",
       "      <td>1888.0</td>\n",
       "    </tr>\n",
       "  </tbody>\n",
       "</table>\n",
       "</div>"
      ],
      "text/plain": [
       "   CustomerID  InvoieNo Date of purchase   Price\n",
       "0      4355.0  398177.0       29-10-2017  1926.0\n",
       "1      4352.0  394422.0       05-10-2017  1740.0\n",
       "2      4352.0  394422.0       12-10-2017  1866.0\n",
       "3      4352.0  388633.0       22-08-2017  1869.0\n",
       "4      4352.0  394422.0       10-10-2017  1888.0"
      ]
     },
     "execution_count": 187,
     "metadata": {},
     "output_type": "execute_result"
    }
   ],
   "source": [
    "df.head()"
   ]
  },
  {
   "cell_type": "code",
   "execution_count": 188,
   "id": "e693a3ae-9faf-48be-b336-c0a910cf0080",
   "metadata": {},
   "outputs": [
    {
     "data": {
      "text/plain": [
       "4349"
      ]
     },
     "execution_count": 188,
     "metadata": {},
     "output_type": "execute_result"
    }
   ],
   "source": [
    "# Count unique customers we have\n",
    "\n",
    "df['CustomerID'].nunique()"
   ]
  },
  {
   "cell_type": "code",
   "execution_count": 189,
   "id": "c4609601-8c25-44ad-8e68-ac5c18a1889f",
   "metadata": {},
   "outputs": [
    {
     "name": "stdout",
     "output_type": "stream",
     "text": [
      "<class 'pandas.core.frame.DataFrame'>\n",
      "Index: 404181 entries, 0 to 537940\n",
      "Data columns (total 4 columns):\n",
      " #   Column            Non-Null Count   Dtype  \n",
      "---  ------            --------------   -----  \n",
      " 0   CustomerID        404181 non-null  float64\n",
      " 1   InvoieNo          404181 non-null  float64\n",
      " 2   Date of purchase  404181 non-null  object \n",
      " 3   Price             404181 non-null  float64\n",
      "dtypes: float64(3), object(1)\n",
      "memory usage: 15.4+ MB\n"
     ]
    }
   ],
   "source": [
    "df.info()"
   ]
  },
  {
   "cell_type": "code",
   "execution_count": 190,
   "id": "1d71a5c7-0290-4a01-ae6a-6779badb4377",
   "metadata": {},
   "outputs": [],
   "source": [
    "df['Date of purchase'] = pd.to_datetime(df['Date of purchase'])"
   ]
  },
  {
   "cell_type": "code",
   "execution_count": 191,
   "id": "e927a290-44e2-4186-9571-1e988cef2d51",
   "metadata": {},
   "outputs": [
    {
     "name": "stdout",
     "output_type": "stream",
     "text": [
      "<class 'pandas.core.frame.DataFrame'>\n",
      "Index: 404181 entries, 0 to 537940\n",
      "Data columns (total 4 columns):\n",
      " #   Column            Non-Null Count   Dtype         \n",
      "---  ------            --------------   -----         \n",
      " 0   CustomerID        404181 non-null  float64       \n",
      " 1   InvoieNo          404181 non-null  float64       \n",
      " 2   Date of purchase  404181 non-null  datetime64[ns]\n",
      " 3   Price             404181 non-null  float64       \n",
      "dtypes: datetime64[ns](1), float64(3)\n",
      "memory usage: 15.4 MB\n"
     ]
    }
   ],
   "source": [
    "df.info()"
   ]
  },
  {
   "cell_type": "code",
   "execution_count": 192,
   "id": "540df797-91b2-4f6b-8ea9-68f99efc010f",
   "metadata": {},
   "outputs": [
    {
     "data": {
      "text/html": [
       "<div>\n",
       "<style scoped>\n",
       "    .dataframe tbody tr th:only-of-type {\n",
       "        vertical-align: middle;\n",
       "    }\n",
       "\n",
       "    .dataframe tbody tr th {\n",
       "        vertical-align: top;\n",
       "    }\n",
       "\n",
       "    .dataframe thead th {\n",
       "        text-align: right;\n",
       "    }\n",
       "</style>\n",
       "<table border=\"1\" class=\"dataframe\">\n",
       "  <thead>\n",
       "    <tr style=\"text-align: right;\">\n",
       "      <th></th>\n",
       "      <th>CustomerID</th>\n",
       "      <th>Invoice_No</th>\n",
       "      <th>Date</th>\n",
       "      <th>Price</th>\n",
       "    </tr>\n",
       "  </thead>\n",
       "  <tbody>\n",
       "    <tr>\n",
       "      <th>0</th>\n",
       "      <td>4355.0</td>\n",
       "      <td>398177.0</td>\n",
       "      <td>2017-10-29</td>\n",
       "      <td>1926.0</td>\n",
       "    </tr>\n",
       "    <tr>\n",
       "      <th>1</th>\n",
       "      <td>4352.0</td>\n",
       "      <td>394422.0</td>\n",
       "      <td>2017-10-05</td>\n",
       "      <td>1740.0</td>\n",
       "    </tr>\n",
       "    <tr>\n",
       "      <th>2</th>\n",
       "      <td>4352.0</td>\n",
       "      <td>394422.0</td>\n",
       "      <td>2017-10-12</td>\n",
       "      <td>1866.0</td>\n",
       "    </tr>\n",
       "    <tr>\n",
       "      <th>3</th>\n",
       "      <td>4352.0</td>\n",
       "      <td>388633.0</td>\n",
       "      <td>2017-08-22</td>\n",
       "      <td>1869.0</td>\n",
       "    </tr>\n",
       "    <tr>\n",
       "      <th>4</th>\n",
       "      <td>4352.0</td>\n",
       "      <td>394422.0</td>\n",
       "      <td>2017-10-10</td>\n",
       "      <td>1888.0</td>\n",
       "    </tr>\n",
       "  </tbody>\n",
       "</table>\n",
       "</div>"
      ],
      "text/plain": [
       "   CustomerID  Invoice_No       Date   Price\n",
       "0      4355.0    398177.0 2017-10-29  1926.0\n",
       "1      4352.0    394422.0 2017-10-05  1740.0\n",
       "2      4352.0    394422.0 2017-10-12  1866.0\n",
       "3      4352.0    388633.0 2017-08-22  1869.0\n",
       "4      4352.0    394422.0 2017-10-10  1888.0"
      ]
     },
     "execution_count": 192,
     "metadata": {},
     "output_type": "execute_result"
    }
   ],
   "source": [
    "df = df.rename(columns = {'InvoieNo':'Invoice_No','Date of purchase':'Date'})\n",
    "\n",
    "df.head()"
   ]
  },
  {
   "cell_type": "code",
   "execution_count": 193,
   "id": "9d18ef7d-c441-4c55-9215-0e1ab88179ee",
   "metadata": {},
   "outputs": [
    {
     "data": {
      "text/plain": [
       "count                           404181\n",
       "mean     2017-07-15 15:28:28.388073472\n",
       "min                2016-12-02 00:00:00\n",
       "25%                2017-04-12 00:00:00\n",
       "50%                2017-08-05 00:00:00\n",
       "75%                2017-10-26 00:00:00\n",
       "max                2017-12-19 00:00:00\n",
       "Name: Date, dtype: object"
      ]
     },
     "execution_count": 193,
     "metadata": {},
     "output_type": "execute_result"
    }
   ],
   "source": [
    "df['Date'].describe()"
   ]
  },
  {
   "cell_type": "code",
   "execution_count": 194,
   "id": "c80af3bd-d6ef-4a6e-ba73-c51cbc3f0010",
   "metadata": {},
   "outputs": [
    {
     "data": {
      "text/plain": [
       "datetime.datetime(2017, 12, 20, 0, 0)"
      ]
     },
     "execution_count": 194,
     "metadata": {},
     "output_type": "execute_result"
    }
   ],
   "source": [
    "import datetime\n",
    "\n",
    "new_date = datetime.datetime(2017,12,20)\n",
    "new_date"
   ]
  },
  {
   "cell_type": "code",
   "execution_count": 195,
   "id": "c08437c5-2237-4472-b32e-b951d610e632",
   "metadata": {},
   "outputs": [
    {
     "data": {
      "text/html": [
       "<div>\n",
       "<style scoped>\n",
       "    .dataframe tbody tr th:only-of-type {\n",
       "        vertical-align: middle;\n",
       "    }\n",
       "\n",
       "    .dataframe tbody tr th {\n",
       "        vertical-align: top;\n",
       "    }\n",
       "\n",
       "    .dataframe thead th {\n",
       "        text-align: right;\n",
       "    }\n",
       "</style>\n",
       "<table border=\"1\" class=\"dataframe\">\n",
       "  <thead>\n",
       "    <tr style=\"text-align: right;\">\n",
       "      <th></th>\n",
       "      <th>CustomerID</th>\n",
       "      <th>Recency</th>\n",
       "      <th>Frequency</th>\n",
       "      <th>Monetory</th>\n",
       "    </tr>\n",
       "  </thead>\n",
       "  <tbody>\n",
       "    <tr>\n",
       "      <th>0</th>\n",
       "      <td>2.0</td>\n",
       "      <td>4</td>\n",
       "      <td>182</td>\n",
       "      <td>553704.0</td>\n",
       "    </tr>\n",
       "    <tr>\n",
       "      <th>1</th>\n",
       "      <td>3.0</td>\n",
       "      <td>77</td>\n",
       "      <td>27</td>\n",
       "      <td>257404.0</td>\n",
       "    </tr>\n",
       "    <tr>\n",
       "      <th>2</th>\n",
       "      <td>4.0</td>\n",
       "      <td>19</td>\n",
       "      <td>72</td>\n",
       "      <td>176613.0</td>\n",
       "    </tr>\n",
       "    <tr>\n",
       "      <th>3</th>\n",
       "      <td>5.0</td>\n",
       "      <td>311</td>\n",
       "      <td>16</td>\n",
       "      <td>41976.0</td>\n",
       "    </tr>\n",
       "    <tr>\n",
       "      <th>4</th>\n",
       "      <td>6.0</td>\n",
       "      <td>37</td>\n",
       "      <td>84</td>\n",
       "      <td>151822.0</td>\n",
       "    </tr>\n",
       "    <tr>\n",
       "      <th>...</th>\n",
       "      <td>...</td>\n",
       "      <td>...</td>\n",
       "      <td>...</td>\n",
       "      <td>...</td>\n",
       "    </tr>\n",
       "    <tr>\n",
       "      <th>4344</th>\n",
       "      <td>4368.0</td>\n",
       "      <td>278</td>\n",
       "      <td>10</td>\n",
       "      <td>20480.0</td>\n",
       "    </tr>\n",
       "    <tr>\n",
       "      <th>4345</th>\n",
       "      <td>4369.0</td>\n",
       "      <td>181</td>\n",
       "      <td>7</td>\n",
       "      <td>10774.0</td>\n",
       "    </tr>\n",
       "    <tr>\n",
       "      <th>4346</th>\n",
       "      <td>4370.0</td>\n",
       "      <td>9</td>\n",
       "      <td>13</td>\n",
       "      <td>24962.0</td>\n",
       "    </tr>\n",
       "    <tr>\n",
       "      <th>4347</th>\n",
       "      <td>4371.0</td>\n",
       "      <td>4</td>\n",
       "      <td>754</td>\n",
       "      <td>280608.0</td>\n",
       "    </tr>\n",
       "    <tr>\n",
       "      <th>4348</th>\n",
       "      <td>4372.0</td>\n",
       "      <td>44</td>\n",
       "      <td>70</td>\n",
       "      <td>262820.0</td>\n",
       "    </tr>\n",
       "  </tbody>\n",
       "</table>\n",
       "<p>4349 rows × 4 columns</p>\n",
       "</div>"
      ],
      "text/plain": [
       "      CustomerID  Recency  Frequency  Monetory\n",
       "0            2.0        4        182  553704.0\n",
       "1            3.0       77         27  257404.0\n",
       "2            4.0       19         72  176613.0\n",
       "3            5.0      311         16   41976.0\n",
       "4            6.0       37         84  151822.0\n",
       "...          ...      ...        ...       ...\n",
       "4344      4368.0      278         10   20480.0\n",
       "4345      4369.0      181          7   10774.0\n",
       "4346      4370.0        9         13   24962.0\n",
       "4347      4371.0        4        754  280608.0\n",
       "4348      4372.0       44         70  262820.0\n",
       "\n",
       "[4349 rows x 4 columns]"
      ]
     },
     "execution_count": 195,
     "metadata": {},
     "output_type": "execute_result"
    }
   ],
   "source": [
    "RFMApproach = df.groupby('CustomerID').agg({'Date': lambda x: (new_date-x.max()).days,\n",
    "                                           'Invoice_No': lambda x:x.count(),\n",
    "                                           'Price': lambda x:x.sum()})\n",
    "\n",
    "RFMApproach.rename(columns = {'Date':'Recency', 'Invoice_No':'Frequency','Price':'Monetory'}, inplace = True)\n",
    "\n",
    "RFMApproach.reset_index()"
   ]
  },
  {
   "cell_type": "code",
   "execution_count": 196,
   "id": "b56956fb-d6ab-4a7e-a702-09cc423f53ab",
   "metadata": {},
   "outputs": [
    {
     "data": {
      "text/html": [
       "<div>\n",
       "<style scoped>\n",
       "    .dataframe tbody tr th:only-of-type {\n",
       "        vertical-align: middle;\n",
       "    }\n",
       "\n",
       "    .dataframe tbody tr th {\n",
       "        vertical-align: top;\n",
       "    }\n",
       "\n",
       "    .dataframe thead th {\n",
       "        text-align: right;\n",
       "    }\n",
       "</style>\n",
       "<table border=\"1\" class=\"dataframe\">\n",
       "  <thead>\n",
       "    <tr style=\"text-align: right;\">\n",
       "      <th></th>\n",
       "      <th>Recency</th>\n",
       "      <th>Frequency</th>\n",
       "      <th>Monetory</th>\n",
       "    </tr>\n",
       "  </thead>\n",
       "  <tbody>\n",
       "    <tr>\n",
       "      <th>count</th>\n",
       "      <td>4349.000000</td>\n",
       "      <td>4349.000000</td>\n",
       "      <td>4.349000e+03</td>\n",
       "    </tr>\n",
       "    <tr>\n",
       "      <th>mean</th>\n",
       "      <td>93.299379</td>\n",
       "      <td>92.936537</td>\n",
       "      <td>2.299380e+05</td>\n",
       "    </tr>\n",
       "    <tr>\n",
       "      <th>std</th>\n",
       "      <td>100.701315</td>\n",
       "      <td>232.086935</td>\n",
       "      <td>8.572589e+05</td>\n",
       "    </tr>\n",
       "    <tr>\n",
       "      <th>min</th>\n",
       "      <td>1.000000</td>\n",
       "      <td>1.000000</td>\n",
       "      <td>-5.037200e+04</td>\n",
       "    </tr>\n",
       "    <tr>\n",
       "      <th>25%</th>\n",
       "      <td>18.000000</td>\n",
       "      <td>17.000000</td>\n",
       "      <td>3.814800e+04</td>\n",
       "    </tr>\n",
       "    <tr>\n",
       "      <th>50%</th>\n",
       "      <td>51.000000</td>\n",
       "      <td>42.000000</td>\n",
       "      <td>8.365500e+04</td>\n",
       "    </tr>\n",
       "    <tr>\n",
       "      <th>75%</th>\n",
       "      <td>144.000000</td>\n",
       "      <td>101.000000</td>\n",
       "      <td>2.056120e+05</td>\n",
       "    </tr>\n",
       "    <tr>\n",
       "      <th>max</th>\n",
       "      <td>381.000000</td>\n",
       "      <td>7970.000000</td>\n",
       "      <td>3.553619e+07</td>\n",
       "    </tr>\n",
       "  </tbody>\n",
       "</table>\n",
       "</div>"
      ],
      "text/plain": [
       "           Recency    Frequency      Monetory\n",
       "count  4349.000000  4349.000000  4.349000e+03\n",
       "mean     93.299379    92.936537  2.299380e+05\n",
       "std     100.701315   232.086935  8.572589e+05\n",
       "min       1.000000     1.000000 -5.037200e+04\n",
       "25%      18.000000    17.000000  3.814800e+04\n",
       "50%      51.000000    42.000000  8.365500e+04\n",
       "75%     144.000000   101.000000  2.056120e+05\n",
       "max     381.000000  7970.000000  3.553619e+07"
      ]
     },
     "execution_count": 196,
     "metadata": {},
     "output_type": "execute_result"
    }
   ],
   "source": [
    "RFMApproach.describe()"
   ]
  },
  {
   "cell_type": "code",
   "execution_count": 197,
   "id": "39e5bbd6-52aa-4c48-9b6f-634dd5eecddf",
   "metadata": {},
   "outputs": [
    {
     "data": {
      "text/plain": [
       "{'Recency': {0.25: 18.0, 0.5: 51.0, 0.75: 144.0},\n",
       " 'Frequency': {0.25: 17.0, 0.5: 42.0, 0.75: 101.0},\n",
       " 'Monetory': {0.25: 38148.0, 0.5: 83655.0, 0.75: 205612.0}}"
      ]
     },
     "execution_count": 197,
     "metadata": {},
     "output_type": "execute_result"
    }
   ],
   "source": [
    "# Using quantile method to make cluster basis RFM Approach\n",
    "\n",
    "quantiles = RFMApproach.quantile(q = [0.25,0.50,0.75])\n",
    "quantiles = quantiles.to_dict()\n",
    "quantiles"
   ]
  },
  {
   "cell_type": "code",
   "execution_count": 198,
   "id": "f722cfad-7fa3-4be7-86da-ef0b5e07e5f2",
   "metadata": {},
   "outputs": [],
   "source": [
    "def Recency_value(x, p, d):\n",
    "    if x <= d[p][0.25]:\n",
    "        return 1\n",
    "    elif x <= d[p][0.50]:\n",
    "        return 2\n",
    "    elif x <=d[p][0.75]:\n",
    "        return 3\n",
    "    else:\n",
    "        return 4"
   ]
  },
  {
   "cell_type": "code",
   "execution_count": 199,
   "id": "2d5e017c-74e5-49af-914c-26c66da680ea",
   "metadata": {},
   "outputs": [],
   "source": [
    "def Freq_Monetory_value(x, p, d):\n",
    "    if x <= d[p][0.25]:\n",
    "        return 4\n",
    "    elif x <= d[p][0.50]:\n",
    "        return 3\n",
    "    elif x <=d[p][0.75]:\n",
    "        return 2\n",
    "    else:\n",
    "        return 1"
   ]
  },
  {
   "cell_type": "code",
   "execution_count": 200,
   "id": "62cce141-0022-4ee9-a5f5-35f9a513ce33",
   "metadata": {},
   "outputs": [
    {
     "data": {
      "text/plain": [
       "Index(['Recency', 'Frequency', 'Monetory'], dtype='object')"
      ]
     },
     "execution_count": 200,
     "metadata": {},
     "output_type": "execute_result"
    }
   ],
   "source": [
    "RFMApproach.columns"
   ]
  },
  {
   "cell_type": "code",
   "execution_count": 201,
   "id": "ea65fa79-b24e-46a9-8072-940bede156db",
   "metadata": {},
   "outputs": [],
   "source": [
    "RFMApproach['R'] = RFMApproach['Recency'].apply(Recency_value, args=('Recency',quantiles))\n",
    "RFMApproach['F'] = RFMApproach['Frequency'].apply(Freq_Monetory_value, args=('Frequency',quantiles))\n",
    "RFMApproach['M'] = RFMApproach['Monetory'].apply(Freq_Monetory_value, args=('Monetory',quantiles))"
   ]
  },
  {
   "cell_type": "code",
   "execution_count": 202,
   "id": "fe220f23-04b6-4722-8017-42693f945fa2",
   "metadata": {},
   "outputs": [
    {
     "data": {
      "text/html": [
       "<div>\n",
       "<style scoped>\n",
       "    .dataframe tbody tr th:only-of-type {\n",
       "        vertical-align: middle;\n",
       "    }\n",
       "\n",
       "    .dataframe tbody tr th {\n",
       "        vertical-align: top;\n",
       "    }\n",
       "\n",
       "    .dataframe thead th {\n",
       "        text-align: right;\n",
       "    }\n",
       "</style>\n",
       "<table border=\"1\" class=\"dataframe\">\n",
       "  <thead>\n",
       "    <tr style=\"text-align: right;\">\n",
       "      <th></th>\n",
       "      <th>CustomerID</th>\n",
       "      <th>Recency</th>\n",
       "      <th>Frequency</th>\n",
       "      <th>Monetory</th>\n",
       "      <th>R</th>\n",
       "      <th>F</th>\n",
       "      <th>M</th>\n",
       "    </tr>\n",
       "  </thead>\n",
       "  <tbody>\n",
       "    <tr>\n",
       "      <th>0</th>\n",
       "      <td>2.0</td>\n",
       "      <td>4</td>\n",
       "      <td>182</td>\n",
       "      <td>553704.0</td>\n",
       "      <td>1</td>\n",
       "      <td>1</td>\n",
       "      <td>1</td>\n",
       "    </tr>\n",
       "    <tr>\n",
       "      <th>1</th>\n",
       "      <td>3.0</td>\n",
       "      <td>77</td>\n",
       "      <td>27</td>\n",
       "      <td>257404.0</td>\n",
       "      <td>3</td>\n",
       "      <td>3</td>\n",
       "      <td>1</td>\n",
       "    </tr>\n",
       "    <tr>\n",
       "      <th>2</th>\n",
       "      <td>4.0</td>\n",
       "      <td>19</td>\n",
       "      <td>72</td>\n",
       "      <td>176613.0</td>\n",
       "      <td>2</td>\n",
       "      <td>2</td>\n",
       "      <td>2</td>\n",
       "    </tr>\n",
       "    <tr>\n",
       "      <th>3</th>\n",
       "      <td>5.0</td>\n",
       "      <td>311</td>\n",
       "      <td>16</td>\n",
       "      <td>41976.0</td>\n",
       "      <td>4</td>\n",
       "      <td>4</td>\n",
       "      <td>3</td>\n",
       "    </tr>\n",
       "    <tr>\n",
       "      <th>4</th>\n",
       "      <td>6.0</td>\n",
       "      <td>37</td>\n",
       "      <td>84</td>\n",
       "      <td>151822.0</td>\n",
       "      <td>2</td>\n",
       "      <td>2</td>\n",
       "      <td>2</td>\n",
       "    </tr>\n",
       "    <tr>\n",
       "      <th>...</th>\n",
       "      <td>...</td>\n",
       "      <td>...</td>\n",
       "      <td>...</td>\n",
       "      <td>...</td>\n",
       "      <td>...</td>\n",
       "      <td>...</td>\n",
       "      <td>...</td>\n",
       "    </tr>\n",
       "    <tr>\n",
       "      <th>4344</th>\n",
       "      <td>4368.0</td>\n",
       "      <td>278</td>\n",
       "      <td>10</td>\n",
       "      <td>20480.0</td>\n",
       "      <td>4</td>\n",
       "      <td>4</td>\n",
       "      <td>4</td>\n",
       "    </tr>\n",
       "    <tr>\n",
       "      <th>4345</th>\n",
       "      <td>4369.0</td>\n",
       "      <td>181</td>\n",
       "      <td>7</td>\n",
       "      <td>10774.0</td>\n",
       "      <td>4</td>\n",
       "      <td>4</td>\n",
       "      <td>4</td>\n",
       "    </tr>\n",
       "    <tr>\n",
       "      <th>4346</th>\n",
       "      <td>4370.0</td>\n",
       "      <td>9</td>\n",
       "      <td>13</td>\n",
       "      <td>24962.0</td>\n",
       "      <td>1</td>\n",
       "      <td>4</td>\n",
       "      <td>4</td>\n",
       "    </tr>\n",
       "    <tr>\n",
       "      <th>4347</th>\n",
       "      <td>4371.0</td>\n",
       "      <td>4</td>\n",
       "      <td>754</td>\n",
       "      <td>280608.0</td>\n",
       "      <td>1</td>\n",
       "      <td>1</td>\n",
       "      <td>1</td>\n",
       "    </tr>\n",
       "    <tr>\n",
       "      <th>4348</th>\n",
       "      <td>4372.0</td>\n",
       "      <td>44</td>\n",
       "      <td>70</td>\n",
       "      <td>262820.0</td>\n",
       "      <td>2</td>\n",
       "      <td>2</td>\n",
       "      <td>1</td>\n",
       "    </tr>\n",
       "  </tbody>\n",
       "</table>\n",
       "<p>4349 rows × 7 columns</p>\n",
       "</div>"
      ],
      "text/plain": [
       "      CustomerID  Recency  Frequency  Monetory  R  F  M\n",
       "0            2.0        4        182  553704.0  1  1  1\n",
       "1            3.0       77         27  257404.0  3  3  1\n",
       "2            4.0       19         72  176613.0  2  2  2\n",
       "3            5.0      311         16   41976.0  4  4  3\n",
       "4            6.0       37         84  151822.0  2  2  2\n",
       "...          ...      ...        ...       ... .. .. ..\n",
       "4344      4368.0      278         10   20480.0  4  4  4\n",
       "4345      4369.0      181          7   10774.0  4  4  4\n",
       "4346      4370.0        9         13   24962.0  1  4  4\n",
       "4347      4371.0        4        754  280608.0  1  1  1\n",
       "4348      4372.0       44         70  262820.0  2  2  1\n",
       "\n",
       "[4349 rows x 7 columns]"
      ]
     },
     "execution_count": 202,
     "metadata": {},
     "output_type": "execute_result"
    }
   ],
   "source": [
    "RFMApproach.reset_index()"
   ]
  },
  {
   "cell_type": "code",
   "execution_count": 203,
   "id": "ad4bef4c-db78-4a37-a04b-d67b0ac456da",
   "metadata": {},
   "outputs": [
    {
     "data": {
      "text/html": [
       "<div>\n",
       "<style scoped>\n",
       "    .dataframe tbody tr th:only-of-type {\n",
       "        vertical-align: middle;\n",
       "    }\n",
       "\n",
       "    .dataframe tbody tr th {\n",
       "        vertical-align: top;\n",
       "    }\n",
       "\n",
       "    .dataframe thead th {\n",
       "        text-align: right;\n",
       "    }\n",
       "</style>\n",
       "<table border=\"1\" class=\"dataframe\">\n",
       "  <thead>\n",
       "    <tr style=\"text-align: right;\">\n",
       "      <th></th>\n",
       "      <th>CustomerID</th>\n",
       "      <th>Recency</th>\n",
       "      <th>Frequency</th>\n",
       "      <th>Monetory</th>\n",
       "      <th>R</th>\n",
       "      <th>F</th>\n",
       "      <th>M</th>\n",
       "      <th>RFM</th>\n",
       "    </tr>\n",
       "  </thead>\n",
       "  <tbody>\n",
       "    <tr>\n",
       "      <th>0</th>\n",
       "      <td>2.0</td>\n",
       "      <td>4</td>\n",
       "      <td>182</td>\n",
       "      <td>553704.0</td>\n",
       "      <td>1</td>\n",
       "      <td>1</td>\n",
       "      <td>1</td>\n",
       "      <td>3</td>\n",
       "    </tr>\n",
       "    <tr>\n",
       "      <th>1</th>\n",
       "      <td>3.0</td>\n",
       "      <td>77</td>\n",
       "      <td>27</td>\n",
       "      <td>257404.0</td>\n",
       "      <td>3</td>\n",
       "      <td>3</td>\n",
       "      <td>1</td>\n",
       "      <td>7</td>\n",
       "    </tr>\n",
       "    <tr>\n",
       "      <th>2</th>\n",
       "      <td>4.0</td>\n",
       "      <td>19</td>\n",
       "      <td>72</td>\n",
       "      <td>176613.0</td>\n",
       "      <td>2</td>\n",
       "      <td>2</td>\n",
       "      <td>2</td>\n",
       "      <td>6</td>\n",
       "    </tr>\n",
       "    <tr>\n",
       "      <th>3</th>\n",
       "      <td>5.0</td>\n",
       "      <td>311</td>\n",
       "      <td>16</td>\n",
       "      <td>41976.0</td>\n",
       "      <td>4</td>\n",
       "      <td>4</td>\n",
       "      <td>3</td>\n",
       "      <td>11</td>\n",
       "    </tr>\n",
       "    <tr>\n",
       "      <th>4</th>\n",
       "      <td>6.0</td>\n",
       "      <td>37</td>\n",
       "      <td>84</td>\n",
       "      <td>151822.0</td>\n",
       "      <td>2</td>\n",
       "      <td>2</td>\n",
       "      <td>2</td>\n",
       "      <td>6</td>\n",
       "    </tr>\n",
       "    <tr>\n",
       "      <th>...</th>\n",
       "      <td>...</td>\n",
       "      <td>...</td>\n",
       "      <td>...</td>\n",
       "      <td>...</td>\n",
       "      <td>...</td>\n",
       "      <td>...</td>\n",
       "      <td>...</td>\n",
       "      <td>...</td>\n",
       "    </tr>\n",
       "    <tr>\n",
       "      <th>4344</th>\n",
       "      <td>4368.0</td>\n",
       "      <td>278</td>\n",
       "      <td>10</td>\n",
       "      <td>20480.0</td>\n",
       "      <td>4</td>\n",
       "      <td>4</td>\n",
       "      <td>4</td>\n",
       "      <td>12</td>\n",
       "    </tr>\n",
       "    <tr>\n",
       "      <th>4345</th>\n",
       "      <td>4369.0</td>\n",
       "      <td>181</td>\n",
       "      <td>7</td>\n",
       "      <td>10774.0</td>\n",
       "      <td>4</td>\n",
       "      <td>4</td>\n",
       "      <td>4</td>\n",
       "      <td>12</td>\n",
       "    </tr>\n",
       "    <tr>\n",
       "      <th>4346</th>\n",
       "      <td>4370.0</td>\n",
       "      <td>9</td>\n",
       "      <td>13</td>\n",
       "      <td>24962.0</td>\n",
       "      <td>1</td>\n",
       "      <td>4</td>\n",
       "      <td>4</td>\n",
       "      <td>9</td>\n",
       "    </tr>\n",
       "    <tr>\n",
       "      <th>4347</th>\n",
       "      <td>4371.0</td>\n",
       "      <td>4</td>\n",
       "      <td>754</td>\n",
       "      <td>280608.0</td>\n",
       "      <td>1</td>\n",
       "      <td>1</td>\n",
       "      <td>1</td>\n",
       "      <td>3</td>\n",
       "    </tr>\n",
       "    <tr>\n",
       "      <th>4348</th>\n",
       "      <td>4372.0</td>\n",
       "      <td>44</td>\n",
       "      <td>70</td>\n",
       "      <td>262820.0</td>\n",
       "      <td>2</td>\n",
       "      <td>2</td>\n",
       "      <td>1</td>\n",
       "      <td>5</td>\n",
       "    </tr>\n",
       "  </tbody>\n",
       "</table>\n",
       "<p>4349 rows × 8 columns</p>\n",
       "</div>"
      ],
      "text/plain": [
       "      CustomerID  Recency  Frequency  Monetory  R  F  M  RFM\n",
       "0            2.0        4        182  553704.0  1  1  1    3\n",
       "1            3.0       77         27  257404.0  3  3  1    7\n",
       "2            4.0       19         72  176613.0  2  2  2    6\n",
       "3            5.0      311         16   41976.0  4  4  3   11\n",
       "4            6.0       37         84  151822.0  2  2  2    6\n",
       "...          ...      ...        ...       ... .. .. ..  ...\n",
       "4344      4368.0      278         10   20480.0  4  4  4   12\n",
       "4345      4369.0      181          7   10774.0  4  4  4   12\n",
       "4346      4370.0        9         13   24962.0  1  4  4    9\n",
       "4347      4371.0        4        754  280608.0  1  1  1    3\n",
       "4348      4372.0       44         70  262820.0  2  2  1    5\n",
       "\n",
       "[4349 rows x 8 columns]"
      ]
     },
     "execution_count": 203,
     "metadata": {},
     "output_type": "execute_result"
    }
   ],
   "source": [
    "RFMApproach['RFM'] = RFMApproach[['R','F','M']].sum(axis=1)\n",
    "RFMApproach.reset_index()"
   ]
  },
  {
   "cell_type": "code",
   "execution_count": 204,
   "id": "858210c0-f35f-4ed7-83eb-df70d65b2076",
   "metadata": {},
   "outputs": [
    {
     "data": {
      "text/plain": [
       "10"
      ]
     },
     "execution_count": 204,
     "metadata": {},
     "output_type": "execute_result"
    }
   ],
   "source": [
    "RFMApproach['RFM'].nunique()"
   ]
  },
  {
   "cell_type": "code",
   "execution_count": 205,
   "id": "a8813628-87dc-4e34-8b1e-eb9b9967a9d3",
   "metadata": {},
   "outputs": [
    {
     "data": {
      "text/html": [
       "<div>\n",
       "<style scoped>\n",
       "    .dataframe tbody tr th:only-of-type {\n",
       "        vertical-align: middle;\n",
       "    }\n",
       "\n",
       "    .dataframe tbody tr th {\n",
       "        vertical-align: top;\n",
       "    }\n",
       "\n",
       "    .dataframe thead th {\n",
       "        text-align: right;\n",
       "    }\n",
       "</style>\n",
       "<table border=\"1\" class=\"dataframe\">\n",
       "  <thead>\n",
       "    <tr style=\"text-align: right;\">\n",
       "      <th></th>\n",
       "      <th>CustomerID</th>\n",
       "      <th>Recency</th>\n",
       "      <th>Frequency</th>\n",
       "      <th>Monetory</th>\n",
       "      <th>R</th>\n",
       "      <th>F</th>\n",
       "      <th>M</th>\n",
       "      <th>RFM</th>\n",
       "      <th>Loyality_Level</th>\n",
       "    </tr>\n",
       "  </thead>\n",
       "  <tbody>\n",
       "    <tr>\n",
       "      <th>0</th>\n",
       "      <td>2.0</td>\n",
       "      <td>4</td>\n",
       "      <td>182</td>\n",
       "      <td>553704.0</td>\n",
       "      <td>1</td>\n",
       "      <td>1</td>\n",
       "      <td>1</td>\n",
       "      <td>3</td>\n",
       "      <td>Platinum</td>\n",
       "    </tr>\n",
       "    <tr>\n",
       "      <th>1</th>\n",
       "      <td>3.0</td>\n",
       "      <td>77</td>\n",
       "      <td>27</td>\n",
       "      <td>257404.0</td>\n",
       "      <td>3</td>\n",
       "      <td>3</td>\n",
       "      <td>1</td>\n",
       "      <td>7</td>\n",
       "      <td>Gold</td>\n",
       "    </tr>\n",
       "    <tr>\n",
       "      <th>2</th>\n",
       "      <td>4.0</td>\n",
       "      <td>19</td>\n",
       "      <td>72</td>\n",
       "      <td>176613.0</td>\n",
       "      <td>2</td>\n",
       "      <td>2</td>\n",
       "      <td>2</td>\n",
       "      <td>6</td>\n",
       "      <td>Gold</td>\n",
       "    </tr>\n",
       "    <tr>\n",
       "      <th>3</th>\n",
       "      <td>5.0</td>\n",
       "      <td>311</td>\n",
       "      <td>16</td>\n",
       "      <td>41976.0</td>\n",
       "      <td>4</td>\n",
       "      <td>4</td>\n",
       "      <td>3</td>\n",
       "      <td>11</td>\n",
       "      <td>Bronze</td>\n",
       "    </tr>\n",
       "    <tr>\n",
       "      <th>4</th>\n",
       "      <td>6.0</td>\n",
       "      <td>37</td>\n",
       "      <td>84</td>\n",
       "      <td>151822.0</td>\n",
       "      <td>2</td>\n",
       "      <td>2</td>\n",
       "      <td>2</td>\n",
       "      <td>6</td>\n",
       "      <td>Gold</td>\n",
       "    </tr>\n",
       "    <tr>\n",
       "      <th>...</th>\n",
       "      <td>...</td>\n",
       "      <td>...</td>\n",
       "      <td>...</td>\n",
       "      <td>...</td>\n",
       "      <td>...</td>\n",
       "      <td>...</td>\n",
       "      <td>...</td>\n",
       "      <td>...</td>\n",
       "      <td>...</td>\n",
       "    </tr>\n",
       "    <tr>\n",
       "      <th>4344</th>\n",
       "      <td>4368.0</td>\n",
       "      <td>278</td>\n",
       "      <td>10</td>\n",
       "      <td>20480.0</td>\n",
       "      <td>4</td>\n",
       "      <td>4</td>\n",
       "      <td>4</td>\n",
       "      <td>12</td>\n",
       "      <td>Bronze</td>\n",
       "    </tr>\n",
       "    <tr>\n",
       "      <th>4345</th>\n",
       "      <td>4369.0</td>\n",
       "      <td>181</td>\n",
       "      <td>7</td>\n",
       "      <td>10774.0</td>\n",
       "      <td>4</td>\n",
       "      <td>4</td>\n",
       "      <td>4</td>\n",
       "      <td>12</td>\n",
       "      <td>Bronze</td>\n",
       "    </tr>\n",
       "    <tr>\n",
       "      <th>4346</th>\n",
       "      <td>4370.0</td>\n",
       "      <td>9</td>\n",
       "      <td>13</td>\n",
       "      <td>24962.0</td>\n",
       "      <td>1</td>\n",
       "      <td>4</td>\n",
       "      <td>4</td>\n",
       "      <td>9</td>\n",
       "      <td>Silver</td>\n",
       "    </tr>\n",
       "    <tr>\n",
       "      <th>4347</th>\n",
       "      <td>4371.0</td>\n",
       "      <td>4</td>\n",
       "      <td>754</td>\n",
       "      <td>280608.0</td>\n",
       "      <td>1</td>\n",
       "      <td>1</td>\n",
       "      <td>1</td>\n",
       "      <td>3</td>\n",
       "      <td>Platinum</td>\n",
       "    </tr>\n",
       "    <tr>\n",
       "      <th>4348</th>\n",
       "      <td>4372.0</td>\n",
       "      <td>44</td>\n",
       "      <td>70</td>\n",
       "      <td>262820.0</td>\n",
       "      <td>2</td>\n",
       "      <td>2</td>\n",
       "      <td>1</td>\n",
       "      <td>5</td>\n",
       "      <td>Platinum</td>\n",
       "    </tr>\n",
       "  </tbody>\n",
       "</table>\n",
       "<p>4349 rows × 9 columns</p>\n",
       "</div>"
      ],
      "text/plain": [
       "      CustomerID  Recency  Frequency  Monetory  R  F  M  RFM Loyality_Level\n",
       "0            2.0        4        182  553704.0  1  1  1    3       Platinum\n",
       "1            3.0       77         27  257404.0  3  3  1    7           Gold\n",
       "2            4.0       19         72  176613.0  2  2  2    6           Gold\n",
       "3            5.0      311         16   41976.0  4  4  3   11         Bronze\n",
       "4            6.0       37         84  151822.0  2  2  2    6           Gold\n",
       "...          ...      ...        ...       ... .. .. ..  ...            ...\n",
       "4344      4368.0      278         10   20480.0  4  4  4   12         Bronze\n",
       "4345      4369.0      181          7   10774.0  4  4  4   12         Bronze\n",
       "4346      4370.0        9         13   24962.0  1  4  4    9         Silver\n",
       "4347      4371.0        4        754  280608.0  1  1  1    3       Platinum\n",
       "4348      4372.0       44         70  262820.0  2  2  1    5       Platinum\n",
       "\n",
       "[4349 rows x 9 columns]"
      ]
     },
     "execution_count": 205,
     "metadata": {},
     "output_type": "execute_result"
    }
   ],
   "source": [
    "Loyality_Level = ['Platinum','Gold','Silver','Bronze']\n",
    "score_cuts = pd.qcut(RFMApproach.RFM, q=4, labels = Loyality_Level)\n",
    "RFMApproach['Loyality_Level'] = score_cuts.values\n",
    "RFMApproach = RFMApproach.reset_index()\n",
    "RFMApproach"
   ]
  },
  {
   "cell_type": "code",
   "execution_count": 206,
   "id": "f2357517-5703-4cc0-bdea-af55926a30da",
   "metadata": {},
   "outputs": [],
   "source": [
    "RFMApproach.to_csv('Final_Segmentation.csv')"
   ]
  },
  {
   "cell_type": "markdown",
   "id": "709bfdae-8edc-4666-81d4-18019492f934",
   "metadata": {},
   "source": [
    "# Visualization "
   ]
  },
  {
   "cell_type": "code",
   "execution_count": 208,
   "id": "db9cfbc4-b349-4d24-a680-06c34bdd953b",
   "metadata": {},
   "outputs": [
    {
     "data": {
      "text/plain": [
       "Index(['CustomerID', 'Recency', 'Frequency', 'Monetory', 'R', 'F', 'M', 'RFM',\n",
       "       'Loyality_Level'],\n",
       "      dtype='object')"
      ]
     },
     "execution_count": 208,
     "metadata": {},
     "output_type": "execute_result"
    }
   ],
   "source": [
    "RFMApproach.columns"
   ]
  },
  {
   "cell_type": "code",
   "execution_count": 209,
   "id": "74118497-07fd-4793-a4f5-1b922c9788f3",
   "metadata": {},
   "outputs": [
    {
     "data": {
      "text/html": [
       "<div>\n",
       "<style scoped>\n",
       "    .dataframe tbody tr th:only-of-type {\n",
       "        vertical-align: middle;\n",
       "    }\n",
       "\n",
       "    .dataframe tbody tr th {\n",
       "        vertical-align: top;\n",
       "    }\n",
       "\n",
       "    .dataframe thead th {\n",
       "        text-align: right;\n",
       "    }\n",
       "</style>\n",
       "<table border=\"1\" class=\"dataframe\">\n",
       "  <thead>\n",
       "    <tr style=\"text-align: right;\">\n",
       "      <th></th>\n",
       "      <th>Loyality_Level</th>\n",
       "      <th>Recency</th>\n",
       "      <th>Frequency</th>\n",
       "      <th>Monetory</th>\n",
       "      <th>CustomerID</th>\n",
       "    </tr>\n",
       "  </thead>\n",
       "  <tbody>\n",
       "    <tr>\n",
       "      <th>0</th>\n",
       "      <td>Platinum</td>\n",
       "      <td>25988</td>\n",
       "      <td>295781</td>\n",
       "      <td>764912338.0</td>\n",
       "      <td>1281</td>\n",
       "    </tr>\n",
       "    <tr>\n",
       "      <th>1</th>\n",
       "      <td>Gold</td>\n",
       "      <td>84082</td>\n",
       "      <td>76027</td>\n",
       "      <td>166230918.0</td>\n",
       "      <td>1313</td>\n",
       "    </tr>\n",
       "    <tr>\n",
       "      <th>2</th>\n",
       "      <td>Silver</td>\n",
       "      <td>121757</td>\n",
       "      <td>23778</td>\n",
       "      <td>50300946.1</td>\n",
       "      <td>965</td>\n",
       "    </tr>\n",
       "    <tr>\n",
       "      <th>3</th>\n",
       "      <td>Bronze</td>\n",
       "      <td>173932</td>\n",
       "      <td>8595</td>\n",
       "      <td>18556145.0</td>\n",
       "      <td>790</td>\n",
       "    </tr>\n",
       "  </tbody>\n",
       "</table>\n",
       "</div>"
      ],
      "text/plain": [
       "  Loyality_Level  Recency  Frequency     Monetory  CustomerID\n",
       "0       Platinum    25988     295781  764912338.0        1281\n",
       "1           Gold    84082      76027  166230918.0        1313\n",
       "2         Silver   121757      23778   50300946.1         965\n",
       "3         Bronze   173932       8595   18556145.0         790"
      ]
     },
     "execution_count": 209,
     "metadata": {},
     "output_type": "execute_result"
    }
   ],
   "source": [
    "final_report = RFMApproach.groupby('Loyality_Level')[['Recency', 'Frequency', 'Monetory','CustomerID']].agg({\n",
    "    'Recency':'sum', 'Frequency':'sum', 'Monetory':'sum','CustomerID':'nunique'}).reset_index()\n",
    "final_report"
   ]
  },
  {
   "cell_type": "code",
   "execution_count": 210,
   "id": "f8a4d02f-f30c-4fd0-8980-2e063adb385a",
   "metadata": {},
   "outputs": [
    {
     "data": {
      "text/html": [
       "<div>\n",
       "<style scoped>\n",
       "    .dataframe tbody tr th:only-of-type {\n",
       "        vertical-align: middle;\n",
       "    }\n",
       "\n",
       "    .dataframe tbody tr th {\n",
       "        vertical-align: top;\n",
       "    }\n",
       "\n",
       "    .dataframe thead th {\n",
       "        text-align: right;\n",
       "    }\n",
       "</style>\n",
       "<table border=\"1\" class=\"dataframe\">\n",
       "  <thead>\n",
       "    <tr style=\"text-align: right;\">\n",
       "      <th></th>\n",
       "      <th>Loyality_Level</th>\n",
       "      <th>Recency</th>\n",
       "      <th>Frequency</th>\n",
       "      <th>Monetory</th>\n",
       "      <th>NumBuyers</th>\n",
       "      <th>Percent</th>\n",
       "    </tr>\n",
       "  </thead>\n",
       "  <tbody>\n",
       "    <tr>\n",
       "      <th>0</th>\n",
       "      <td>Platinum</td>\n",
       "      <td>25988</td>\n",
       "      <td>295781</td>\n",
       "      <td>764912338.0</td>\n",
       "      <td>1281</td>\n",
       "      <td>29.46</td>\n",
       "    </tr>\n",
       "    <tr>\n",
       "      <th>1</th>\n",
       "      <td>Gold</td>\n",
       "      <td>84082</td>\n",
       "      <td>76027</td>\n",
       "      <td>166230918.0</td>\n",
       "      <td>1313</td>\n",
       "      <td>30.19</td>\n",
       "    </tr>\n",
       "    <tr>\n",
       "      <th>2</th>\n",
       "      <td>Silver</td>\n",
       "      <td>121757</td>\n",
       "      <td>23778</td>\n",
       "      <td>50300946.1</td>\n",
       "      <td>965</td>\n",
       "      <td>22.19</td>\n",
       "    </tr>\n",
       "    <tr>\n",
       "      <th>3</th>\n",
       "      <td>Bronze</td>\n",
       "      <td>173932</td>\n",
       "      <td>8595</td>\n",
       "      <td>18556145.0</td>\n",
       "      <td>790</td>\n",
       "      <td>18.17</td>\n",
       "    </tr>\n",
       "  </tbody>\n",
       "</table>\n",
       "</div>"
      ],
      "text/plain": [
       "  Loyality_Level  Recency  Frequency     Monetory  NumBuyers  Percent\n",
       "0       Platinum    25988     295781  764912338.0       1281    29.46\n",
       "1           Gold    84082      76027  166230918.0       1313    30.19\n",
       "2         Silver   121757      23778   50300946.1        965    22.19\n",
       "3         Bronze   173932       8595   18556145.0        790    18.17"
      ]
     },
     "execution_count": 210,
     "metadata": {},
     "output_type": "execute_result"
    }
   ],
   "source": [
    "final_report = final_report.rename(columns = {'CustomerID':'NumBuyers'})\n",
    "final_report['Percent'] = round(final_report['NumBuyers']/final_report.NumBuyers.sum()*100,2)\n",
    "final_report"
   ]
  },
  {
   "cell_type": "code",
   "execution_count": 211,
   "id": "b476ee1e-a0fe-448e-9fbb-2ce4850841d5",
   "metadata": {},
   "outputs": [
    {
     "data": {
      "text/html": [
       "<div>\n",
       "<style scoped>\n",
       "    .dataframe tbody tr th:only-of-type {\n",
       "        vertical-align: middle;\n",
       "    }\n",
       "\n",
       "    .dataframe tbody tr th {\n",
       "        vertical-align: top;\n",
       "    }\n",
       "\n",
       "    .dataframe thead th {\n",
       "        text-align: right;\n",
       "    }\n",
       "</style>\n",
       "<table border=\"1\" class=\"dataframe\">\n",
       "  <thead>\n",
       "    <tr style=\"text-align: right;\">\n",
       "      <th></th>\n",
       "      <th>Loyality_Level</th>\n",
       "      <th>NumBuyers</th>\n",
       "      <th>Percent</th>\n",
       "    </tr>\n",
       "  </thead>\n",
       "  <tbody>\n",
       "    <tr>\n",
       "      <th>0</th>\n",
       "      <td>Platinum</td>\n",
       "      <td>1281</td>\n",
       "      <td>29.46</td>\n",
       "    </tr>\n",
       "    <tr>\n",
       "      <th>1</th>\n",
       "      <td>Gold</td>\n",
       "      <td>1313</td>\n",
       "      <td>30.19</td>\n",
       "    </tr>\n",
       "    <tr>\n",
       "      <th>2</th>\n",
       "      <td>Silver</td>\n",
       "      <td>965</td>\n",
       "      <td>22.19</td>\n",
       "    </tr>\n",
       "    <tr>\n",
       "      <th>3</th>\n",
       "      <td>Bronze</td>\n",
       "      <td>790</td>\n",
       "      <td>18.17</td>\n",
       "    </tr>\n",
       "  </tbody>\n",
       "</table>\n",
       "</div>"
      ],
      "text/plain": [
       "  Loyality_Level  NumBuyers  Percent\n",
       "0       Platinum       1281    29.46\n",
       "1           Gold       1313    30.19\n",
       "2         Silver        965    22.19\n",
       "3         Bronze        790    18.17"
      ]
     },
     "execution_count": 211,
     "metadata": {},
     "output_type": "execute_result"
    }
   ],
   "source": [
    "final_report = final_report[['Loyality_Level','NumBuyers','Percent']]\n",
    "final_report"
   ]
  },
  {
   "cell_type": "code",
   "execution_count": 212,
   "id": "87365f4f-a5a7-422c-8b71-d4481720d93b",
   "metadata": {},
   "outputs": [
    {
     "name": "stdout",
     "output_type": "stream",
     "text": [
      "Requirement already satisfied: squarify in c:\\users\\prana\\anaconda3\\lib\\site-packages (0.4.4)\n",
      "Note: you may need to restart the kernel to use updated packages.\n"
     ]
    }
   ],
   "source": [
    "pip install squarify\n"
   ]
  },
  {
   "cell_type": "code",
   "execution_count": 213,
   "id": "396f27ed-3c91-4b9e-b00b-32cca2d46e02",
   "metadata": {},
   "outputs": [],
   "source": [
    "import squarify"
   ]
  },
  {
   "cell_type": "code",
   "execution_count": 214,
   "id": "ccd2e4df-4be2-41a2-95c8-46832cb4da9a",
   "metadata": {},
   "outputs": [
    {
     "data": {
      "image/png": "[encoded data removed]",
      "text/plain": [
       "<Figure size 600x600 with 1 Axes>"
      ]
     },
     "metadata": {},
     "output_type": "display_data"
    }
   ],
   "source": [
    "fig = plt.gcf()\n",
    "ax = fig.add_subplot()\n",
    "fig.set_size_inches(6,6)\n",
    "colors_dict = {'Platinum':'green', 'Gold':'gold','Silver':'silver', 'Bronze':'brown'}\n",
    "squarify.plot(sizes = final_report['NumBuyers'], color = colors_dict.values(),\n",
    "              label = ['{} \\n{:0.0f} customers \\n{}%'.format(*final_report.iloc[i]) \n",
    "                       for i in range(0, len(final_report))], alpha=0.6)\n",
    "\n",
    "plt.title(\"Customer Loyalty Segmentation Using RFM Analysis\", fontsize=25, fontweight ='bold')\n",
    "plt.axis('off')\n",
    "plt.show()                       "
   ]
  },
  {
   "cell_type": "markdown",
   "id": "9eb35a54-4398-4d7c-bb89-38a8d414f2fb",
   "metadata": {},
   "source": [
    "# Summary:"
   ]
  },
  {
   "cell_type": "markdown",
   "id": "46e2eb48-c037-482e-b6c3-5a4cdd622210",
   "metadata": {},
   "source": [
    "### Gold customers, accounting for 30.19% of the total, represent the most loyal and valuable segment. Bronze customers, at 18.17%, are the least frequent or least profitable group.\n"
   ]
  }
 ],
 "metadata": {
  "kernelspec": {
   "display_name": "Python 3 (ipykernel)",
   "language": "python",
   "name": "python3"
  },
  "language_info": {
   "codemirror_mode": {
    "name": "ipython",
    "version": 3
   },
   "file_extension": ".py",
   "mimetype": "text/x-python",
   "name": "python",
   "nbconvert_exporter": "python",
   "pygments_lexer": "ipython3",
   "version": "3.12.7"
  }
 },
 "nbformat": 4,
 "nbformat_minor": 5
}
